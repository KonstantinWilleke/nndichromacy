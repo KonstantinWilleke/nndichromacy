{
 "cells": [
  {
   "cell_type": "markdown",
   "metadata": {},
   "source": [
    "# Plotting Script for Plotting B/G color MEI bias "
   ]
  },
  {
   "cell_type": "code",
   "execution_count": 1,
   "metadata": {},
   "outputs": [
    {
     "name": "stdout",
     "output_type": "stream",
     "text": [
      "Connecting kwilleke@sinzlab.chlkmukhxp6i.eu-central-1.rds.amazonaws.com:3306\n"
     ]
    }
   ],
   "source": [
    "%load_ext autoreload\n",
    "%autoreload 2\n",
    "\n",
    "import datajoint as dj\n",
    "\n",
    "dj.config[\"display.limit\"] = 50\n",
    "dj.config[\"enable_python_native_blobs\"] = True\n",
    "dj.config['schema_name'] = \"nnfabrik_color_mei\"\n",
    "schema = dj.schema(\"nnfabrik_color_mei\")\n",
    "\n",
    "from nnfabrik.main import *\n",
    "\n",
    "import matplotlib.pyplot as plt\n",
    "import seaborn as sns\n",
    "import numpy as np\n",
    "\n",
    "import pandas as pd"
   ]
  },
  {
   "cell_type": "markdown",
   "metadata": {},
   "source": [
    "### Select a dataset hash"
   ]
  },
  {
   "cell_type": "code",
   "execution_count": 2,
   "metadata": {},
   "outputs": [],
   "source": [
    "keys = [dict(dataset_hash='98d7845e60d7c68a6a4145b4ef85498c', seed=1000),\n",
    "       dict(dataset_hash='4aa96af6f11a2d48463ed03ab6fee5dc', seed=1000)]"
   ]
  },
  {
   "cell_type": "markdown",
   "metadata": {},
   "source": [
    "## Import Scoring Tables"
   ]
  },
  {
   "cell_type": "code",
   "execution_count": 3,
   "metadata": {},
   "outputs": [],
   "source": [
    "from nndichromacy.tables.scores import TestCorrelationBlueTestSet, TestCorrelationGreenTestSet, TestCorrelationDependenthighMSE, TestCorrelation\n",
    "from nndichromacy.tables.scores import CorrelationToAvergeEnsemble, CorrToAvgEnsembleBlueSet, CorrToAvgEnsembleDepSetHighMSE, CorrToAvgEnsembleGreenSet\n",
    "from nndichromacy.tables.measures import OracleCorrelation, OracleCorrelationBlueSet, OracleCorrelationGreenSet, OracleCorrelationDepSet"
   ]
  },
  {
   "cell_type": "markdown",
   "metadata": {},
   "source": [
    "# Populate Scoring Tables"
   ]
  },
  {
   "cell_type": "code",
   "execution_count": null,
   "metadata": {},
   "outputs": [],
   "source": [
    "CorrelationToAvergeEnsemble.populate(keys, display_progress=True)\n",
    "CorrToAvgEnsembleBlueSet.populate(keys, display_progress=True)\n",
    "CorrToAvgEnsembleDepSetHighMSE.populate(keys, display_progress=True)\n",
    "CorrToAvgEnsembleGreenSet.populate(keys, display_progress=True)\n",
    "\n",
    "TestCorrelationBlueTestSet.populate(keys, display_progress=True)\n",
    "TestCorrelationGreenTestSet.populate(keys, display_progress=True)\n",
    "TestCorrelationDependenthighMSE.populate(keys, display_progress=True)\n",
    "TestCorrelation.populate(keys, display_progress=True)\n",
    "\n",
    "OracleCorrelation.populate(keys, display_progress=True)\n",
    "OracleCorrelationBlueSet.populate(keys, display_progress=True)\n",
    "OracleCorrelationGreenSet.populate(keys, display_progress=True)\n",
    "OracleCorrelationDepSet.populate(keys, display_progress=True)"
   ]
  },
  {
   "cell_type": "code",
   "execution_count": 10,
   "metadata": {},
   "outputs": [],
   "source": []
  },
  {
   "cell_type": "markdown",
   "metadata": {},
   "source": [
    "# Fetch the Scores and Measures"
   ]
  },
  {
   "cell_type": "code",
   "execution_count": 39,
   "metadata": {},
   "outputs": [
    {
     "name": "stdout",
     "output_type": "stream",
     "text": [
      "['24046-9-25 normalized' '23656-27-8 normalized']\n"
     ]
    }
   ],
   "source": [
    "corr_overall, corr_dep, corr_g, corr_b, dataset_comment = (Dataset * TestCorrelation * TestCorrelationDependenthighMSE \n",
    " * TestCorrelationGreenTestSet*TestCorrelationBlueTestSet & keys).fetch(\"test_correlation\", \"test_correlation_dependent\", \"test_correlation_green\", \"test_correlation_blue\", \"dataset_comment\")\n",
    "print(dataset_comment)"
   ]
  },
  {
   "cell_type": "code",
   "execution_count": 40,
   "metadata": {},
   "outputs": [
    {
     "name": "stdout",
     "output_type": "stream",
     "text": [
      "['24046-9-25 normalized' '23656-27-8 normalized']\n"
     ]
    }
   ],
   "source": [
    "avg_corr_overall, avg_corr_dep, avg_corr_g, avg_corr_b, dataset_comment = (Dataset * CorrelationToAvergeEnsemble * CorrToAvgEnsembleDepSetHighMSE \n",
    " * CorrToAvgEnsembleGreenSet*CorrToAvgEnsembleBlueSet & keys).fetch(\"avg_correlation\", \"avg_test_correlation_dependent\", \"avg_test_correlation_green\", \"avg_test_correlation_blue\", \"dataset_comment\")\n",
    "print(dataset_comment)"
   ]
  },
  {
   "cell_type": "code",
   "execution_count": 41,
   "metadata": {},
   "outputs": [
    {
     "name": "stdout",
     "output_type": "stream",
     "text": [
      "['24046-9-25 normalized' '23656-27-8 normalized']\n"
     ]
    }
   ],
   "source": [
    "oracle_overall, oracle_dep, oracle_g, oracle_b, dataset_comment = (Dataset * OracleCorrelation * OracleCorrelationDepSet \n",
    " * OracleCorrelationGreenSet*OracleCorrelationBlueSet & keys).fetch(\"oracle_correlation\", \"oracle_correlation_dependent\", \"oracle_correlation_green\", \"oracle_correlation_blue\", \"dataset_comment\")\n",
    "print(dataset_comment)"
   ]
  },
  {
   "cell_type": "markdown",
   "metadata": {},
   "source": [
    "# Create a Dataframe from Tables"
   ]
  },
  {
   "cell_type": "code",
   "execution_count": 42,
   "metadata": {},
   "outputs": [],
   "source": [
    "oracles, avg_correlations, correlations, test_condition, datasets = [], [], [], [], []\n",
    "for i, dataset in enumerate(dataset_comment):\n",
    "    \n",
    "    oracles.extend([oracle_overall[i], oracle_dep[i], oracle_g[i], oracle_b[i]])\n",
    "    \n",
    "    avg_correlations.extend([avg_corr_overall[i], avg_corr_dep[i], avg_corr_g[i], avg_corr_b[i]])\n",
    "    \n",
    "    correlations.extend([corr_overall[i], corr_dep[i], corr_g[i], corr_b[i]])\n",
    "    \n",
    "    test_condition.extend([\"Full\", \"Dependent\", \"G\", \"B\"])\n",
    "    datasets.extend([dataset]*4)\n",
    "    \n",
    "df = pd.DataFrame({'fraction oracle': avg_correlations,\n",
    "                   'oracle correlation': oracles,\n",
    "                   'test correlation': correlations,\n",
    "                   'test condition': test_condition,\n",
    "                   'dataset': datasets})"
   ]
  },
  {
   "cell_type": "code",
   "execution_count": 46,
   "metadata": {},
   "outputs": [
    {
     "data": {
      "text/html": [
       "<div>\n",
       "<style scoped>\n",
       "    .dataframe tbody tr th:only-of-type {\n",
       "        vertical-align: middle;\n",
       "    }\n",
       "\n",
       "    .dataframe tbody tr th {\n",
       "        vertical-align: top;\n",
       "    }\n",
       "\n",
       "    .dataframe thead th {\n",
       "        text-align: right;\n",
       "    }\n",
       "</style>\n",
       "<table border=\"1\" class=\"dataframe\">\n",
       "  <thead>\n",
       "    <tr style=\"text-align: right;\">\n",
       "      <th></th>\n",
       "      <th>fraction oracle</th>\n",
       "      <th>oracle correlation</th>\n",
       "      <th>test correlation</th>\n",
       "      <th>test condition</th>\n",
       "      <th>dataset</th>\n",
       "    </tr>\n",
       "  </thead>\n",
       "  <tbody>\n",
       "    <tr>\n",
       "      <th>0</th>\n",
       "      <td>0.473407</td>\n",
       "      <td>0.460967</td>\n",
       "      <td>0.229477</td>\n",
       "      <td>Full</td>\n",
       "      <td>24046-9-25 normalized</td>\n",
       "    </tr>\n",
       "    <tr>\n",
       "      <th>1</th>\n",
       "      <td>0.428979</td>\n",
       "      <td>0.449065</td>\n",
       "      <td>0.229924</td>\n",
       "      <td>Dependent</td>\n",
       "      <td>24046-9-25 normalized</td>\n",
       "    </tr>\n",
       "    <tr>\n",
       "      <th>2</th>\n",
       "      <td>0.485861</td>\n",
       "      <td>0.451857</td>\n",
       "      <td>0.218911</td>\n",
       "      <td>G</td>\n",
       "      <td>24046-9-25 normalized</td>\n",
       "    </tr>\n",
       "    <tr>\n",
       "      <th>3</th>\n",
       "      <td>0.479867</td>\n",
       "      <td>0.455600</td>\n",
       "      <td>0.219891</td>\n",
       "      <td>B</td>\n",
       "      <td>24046-9-25 normalized</td>\n",
       "    </tr>\n",
       "    <tr>\n",
       "      <th>4</th>\n",
       "      <td>0.463191</td>\n",
       "      <td>0.464614</td>\n",
       "      <td>0.231394</td>\n",
       "      <td>Full</td>\n",
       "      <td>23656-27-8 normalized</td>\n",
       "    </tr>\n",
       "    <tr>\n",
       "      <th>5</th>\n",
       "      <td>0.427269</td>\n",
       "      <td>0.443302</td>\n",
       "      <td>0.232237</td>\n",
       "      <td>Dependent</td>\n",
       "      <td>23656-27-8 normalized</td>\n",
       "    </tr>\n",
       "    <tr>\n",
       "      <th>6</th>\n",
       "      <td>0.464708</td>\n",
       "      <td>0.436425</td>\n",
       "      <td>0.206075</td>\n",
       "      <td>G</td>\n",
       "      <td>23656-27-8 normalized</td>\n",
       "    </tr>\n",
       "    <tr>\n",
       "      <th>7</th>\n",
       "      <td>0.489963</td>\n",
       "      <td>0.471800</td>\n",
       "      <td>0.234198</td>\n",
       "      <td>B</td>\n",
       "      <td>23656-27-8 normalized</td>\n",
       "    </tr>\n",
       "  </tbody>\n",
       "</table>\n",
       "</div>"
      ],
      "text/plain": [
       "   fraction oracle  oracle correlation  test correlation test condition  \\\n",
       "0         0.473407            0.460967          0.229477           Full   \n",
       "1         0.428979            0.449065          0.229924      Dependent   \n",
       "2         0.485861            0.451857          0.218911              G   \n",
       "3         0.479867            0.455600          0.219891              B   \n",
       "4         0.463191            0.464614          0.231394           Full   \n",
       "5         0.427269            0.443302          0.232237      Dependent   \n",
       "6         0.464708            0.436425          0.206075              G   \n",
       "7         0.489963            0.471800          0.234198              B   \n",
       "\n",
       "                 dataset  \n",
       "0  24046-9-25 normalized  \n",
       "1  24046-9-25 normalized  \n",
       "2  24046-9-25 normalized  \n",
       "3  24046-9-25 normalized  \n",
       "4  23656-27-8 normalized  \n",
       "5  23656-27-8 normalized  \n",
       "6  23656-27-8 normalized  \n",
       "7  23656-27-8 normalized  "
      ]
     },
     "execution_count": 46,
     "metadata": {},
     "output_type": "execute_result"
    }
   ],
   "source": [
    "df"
   ]
  },
  {
   "cell_type": "markdown",
   "metadata": {},
   "source": [
    "# Plot the results"
   ]
  },
  {
   "cell_type": "code",
   "execution_count": 54,
   "metadata": {},
   "outputs": [
    {
     "data": {
      "image/png": "[encoded data removed]",
      "text/plain": [
       "<Figure size 504x720 with 3 Axes>"
      ]
     },
     "metadata": {
      "needs_background": "light"
     },
     "output_type": "display_data"
    }
   ],
   "source": [
    "\n",
    "fig, axs = plt.subplots(3,1, sharex=True, figsize=(7,10))\n",
    "sns.set_context('talk', font_scale=0.9)\n",
    "\n",
    "my_hue_order = ['Full', 'Dependent', 'B', 'G']\n",
    "flatui = [\"#34495e\",  \"#e74c3c\", \"#9b59b6\",\"#2ecc71\"]\n",
    "\n",
    "\n",
    "ax0=axs[0]\n",
    "sns.pointplot(x=\"dataset\", y=\"oracle correlation\", hue=\"test condition\",\n",
    "                 data=df, join=False, hue_order=my_hue_order, palette=sns.color_palette(flatui),dodge=dodge, \n",
    "                 ax=ax0,);\n",
    "\n",
    "ax1=axs[1]\n",
    "sns.pointplot(x=\"dataset\", y=\"test correlation\", hue=\"test condition\",\n",
    "                 data=df, join=False, hue_order=my_hue_order, palette=sns.color_palette(flatui),dodge=dodge, \n",
    "                 ax=ax1,);\n",
    "\n",
    "ax2=axs[2]\n",
    "sns.pointplot(x=\"dataset\", y=\"fraction oracle\", hue=\"test condition\",\n",
    "                 data=df, join=False, hue_order=my_hue_order, palette=sns.color_palette(flatui),dodge=dodge, \n",
    "                 ax=ax2,);\n",
    "\n",
    "ax1.get_legend().remove()\n",
    "ax2.get_legend().remove()\n",
    "\n",
    "ax0.set_yticks(np.linspace(.30,.50,5))\n",
    "ax1.set_yticks(np.linspace(.15,.25,5))\n",
    "ax2.set_yticks(np.linspace(.35,.50,4))\n",
    "\n",
    "ax0.set_xlabel('')\n",
    "ax1.set_xlabel('')\n",
    "ax2.set_xlabel('')\n",
    "\n",
    "ax2.set_xticklabels(list(ax2.get_xticklabels()), rotation=15, ha=\"center\")\n",
    "sns.despine(trim=True)\n",
    "ax0.legend(bbox_to_anchor=(1, 1.05), loc=2, frameon=False)\n",
    "\n",
    "plt.savefig('HighMSE_Session_Performance.png',dpi=100, bbox_inches='tight')"
   ]
  },
  {
   "cell_type": "code",
   "execution_count": null,
   "metadata": {},
   "outputs": [],
   "source": []
  }
 ],
 "metadata": {
  "kernelspec": {
   "display_name": "Python 3",
   "language": "python",
   "name": "python3"
  },
  "language_info": {
   "codemirror_mode": {
    "name": "ipython",
    "version": 3
   },
   "file_extension": ".py",
   "mimetype": "text/x-python",
   "name": "python",
   "nbconvert_exporter": "python",
   "pygments_lexer": "ipython3",
   "version": "3.8.0"
  },
  "pycharm": {
   "stem_cell": {
    "cell_type": "raw",
    "source": [],
    "metadata": {
     "collapsed": false
    }
   }
  }
 },
 "nbformat": 4,
 "nbformat_minor": 4
}